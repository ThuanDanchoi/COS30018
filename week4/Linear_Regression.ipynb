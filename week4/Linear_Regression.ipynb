{
  "nbformat": 4,
  "nbformat_minor": 0,
  "metadata": {
    "colab": {
      "name": "Linear_Regression.ipynb",
      "provenance": [],
      "collapsed_sections": []
    },
    "kernelspec": {
      "name": "python3",
      "display_name": "Python 3"
    },
    "language_info": {
      "name": "python"
    },
    "accelerator": "GPU"
  },
  "cells": [
    {
      "cell_type": "markdown",
      "source": [
        "# 1 - Load the dataset"
      ],
      "metadata": {
        "id": "tDuvi82sk5YA"
      }
    },
    {
      "cell_type": "code",
      "source": [
        "#sklearn comes with few small datasets. We will use one of them called \"California Housing\". Which is identical to\n",
        "#to the example we saw in theory part. This dataset has 20640 samples with 8 features (columns). Here target variable\n",
        "#is the price of the house.\n",
        "\n",
        "#import the libs\n",
        "from sklearn.datasets import fetch_california_housing\n",
        "#load the dataset\n",
        "data = fetch_california_housing()  #returns dictionary-like object, attributes are - data, target, DESCR\n",
        "#first of all, let's see the shape of the training data\n",
        "print(data.data.shape)"
      ],
      "metadata": {
        "colab": {
          "base_uri": "https://localhost:8080/"
        },
        "id": "g6-30MafkBOd",
        "outputId": "39a15c47-8396-489e-b34a-947115118e17"
      },
      "execution_count": 4,
      "outputs": [
        {
          "output_type": "stream",
          "name": "stdout",
          "text": [
            "(20640, 8)\n"
          ]
        }
      ]
    },
    {
      "cell_type": "code",
      "source": [
        "#shape of a target/labels\n",
        "print(data.target.shape)"
      ],
      "metadata": {
        "colab": {
          "base_uri": "https://localhost:8080/"
        },
        "id": "CbUrrDgJkGO5",
        "outputId": "ea45e147-d782-434a-8e24-ef8b032ce4a4"
      },
      "execution_count": 5,
      "outputs": [
        {
          "output_type": "stream",
          "name": "stdout",
          "text": [
            "(20640,)\n"
          ]
        }
      ]
    },
    {
      "cell_type": "code",
      "source": [
        "#important info about the dataset\n",
        "print(data.DESCR)"
      ],
      "metadata": {
        "colab": {
          "base_uri": "https://localhost:8080/"
        },
        "id": "MuqeP1kDkwNI",
        "outputId": "f95e2aa3-3b2c-41ab-b463-b45153ec67d8"
      },
      "execution_count": 6,
      "outputs": [
        {
          "output_type": "stream",
          "name": "stdout",
          "text": [
            ".. _california_housing_dataset:\n",
            "\n",
            "California Housing dataset\n",
            "--------------------------\n",
            "\n",
            "**Data Set Characteristics:**\n",
            "\n",
            "    :Number of Instances: 20640\n",
            "\n",
            "    :Number of Attributes: 8 numeric, predictive attributes and the target\n",
            "\n",
            "    :Attribute Information:\n",
            "        - MedInc        median income in block group\n",
            "        - HouseAge      median house age in block group\n",
            "        - AveRooms      average number of rooms per household\n",
            "        - AveBedrms     average number of bedrooms per household\n",
            "        - Population    block group population\n",
            "        - AveOccup      average number of household members\n",
            "        - Latitude      block group latitude\n",
            "        - Longitude     block group longitude\n",
            "\n",
            "    :Missing Attribute Values: None\n",
            "\n",
            "This dataset was obtained from the StatLib repository.\n",
            "https://www.dcc.fc.up.pt/~ltorgo/Regression/cal_housing.html\n",
            "\n",
            "The target variable is the median house value for California districts,\n",
            "expressed in hundreds of thousands of dollars ($100,000).\n",
            "\n",
            "This dataset was derived from the 1990 U.S. census, using one row per census\n",
            "block group. A block group is the smallest geographical unit for which the U.S.\n",
            "Census Bureau publishes sample data (a block group typically has a population\n",
            "of 600 to 3,000 people).\n",
            "\n",
            "An household is a group of people residing within a home. Since the average\n",
            "number of rooms and bedrooms in this dataset are provided per household, these\n",
            "columns may take surpinsingly large values for block groups with few households\n",
            "and many empty houses, such as vacation resorts.\n",
            "\n",
            "It can be downloaded/loaded using the\n",
            ":func:`sklearn.datasets.fetch_california_housing` function.\n",
            "\n",
            ".. topic:: References\n",
            "\n",
            "    - Pace, R. Kelley and Ronald Barry, Sparse Spatial Autoregressions,\n",
            "      Statistics and Probability Letters, 33 (1997) 291-297\n",
            "\n"
          ]
        }
      ]
    },
    {
      "cell_type": "code",
      "source": [
        "#how target values look like\n",
        "data.target[:40]"
      ],
      "metadata": {
        "colab": {
          "base_uri": "https://localhost:8080/"
        },
        "id": "G_775Qk8ky3g",
        "outputId": "b62bc920-ec0a-478b-ff92-884685811655"
      },
      "execution_count": 7,
      "outputs": [
        {
          "output_type": "execute_result",
          "data": {
            "text/plain": [
              "array([4.526, 3.585, 3.521, 3.413, 3.422, 2.697, 2.992, 2.414, 2.267,\n",
              "       2.611, 2.815, 2.418, 2.135, 1.913, 1.592, 1.4  , 1.525, 1.555,\n",
              "       1.587, 1.629, 1.475, 1.598, 1.139, 0.997, 1.326, 1.075, 0.938,\n",
              "       1.055, 1.089, 1.32 , 1.223, 1.152, 1.104, 1.049, 1.097, 0.972,\n",
              "       1.045, 1.039, 1.914, 1.76 ])"
            ]
          },
          "metadata": {},
          "execution_count": 7
        }
      ]
    },
    {
      "cell_type": "markdown",
      "source": [
        "# 2 - Preprocess the dataset"
      ],
      "metadata": {
        "id": "3m1Rxzb5k9bR"
      }
    },
    {
      "cell_type": "markdown",
      "source": [
        "Since this dataset is already preprocessed, we dont have to do anything in this phase."
      ],
      "metadata": {
        "id": "aLm_UyCdlAfF"
      }
    },
    {
      "cell_type": "markdown",
      "source": [
        "# 3 - Train a model"
      ],
      "metadata": {
        "id": "IzyTD7g7lBr7"
      }
    },
    {
      "cell_type": "code",
      "source": [
        "from sklearn.linear_model import LinearRegression\n",
        "#create a linear regression object\n",
        "lin_reg = LinearRegression()\n",
        "#train a model\n",
        "lin_reg.fit(data.data, data.target)"
      ],
      "metadata": {
        "colab": {
          "base_uri": "https://localhost:8080/"
        },
        "id": "F9C6gdtmk2qj",
        "outputId": "3e830f30-bf51-480f-d7c4-390d4dc54551"
      },
      "execution_count": 8,
      "outputs": [
        {
          "output_type": "execute_result",
          "data": {
            "text/plain": [
              "LinearRegression()"
            ]
          },
          "metadata": {},
          "execution_count": 8
        }
      ]
    },
    {
      "cell_type": "code",
      "source": [
        "#learned weights\n",
        "lin_reg.coef_"
      ],
      "metadata": {
        "colab": {
          "base_uri": "https://localhost:8080/"
        },
        "id": "p-rBcSDMlFMz",
        "outputId": "08033188-b528-4d75-aa84-584a71a91542"
      },
      "execution_count": 9,
      "outputs": [
        {
          "output_type": "execute_result",
          "data": {
            "text/plain": [
              "array([ 4.36693293e-01,  9.43577803e-03, -1.07322041e-01,  6.45065694e-01,\n",
              "       -3.97638942e-06, -3.78654265e-03, -4.21314378e-01, -4.34513755e-01])"
            ]
          },
          "metadata": {},
          "execution_count": 9
        }
      ]
    },
    {
      "cell_type": "code",
      "source": [
        "#learned intercept\n",
        "lin_reg.intercept_"
      ],
      "metadata": {
        "colab": {
          "base_uri": "https://localhost:8080/"
        },
        "id": "yCXQzg6ZlHVz",
        "outputId": "204cfb36-10cc-4757-e023-c7e3908e0cb9"
      },
      "execution_count": 10,
      "outputs": [
        {
          "output_type": "execute_result",
          "data": {
            "text/plain": [
              "-36.94192020718439"
            ]
          },
          "metadata": {},
          "execution_count": 10
        }
      ]
    },
    {
      "cell_type": "markdown",
      "source": [
        "# 4 - Test a model"
      ],
      "metadata": {
        "id": "cdRi7dQzlKrt"
      }
    },
    {
      "cell_type": "code",
      "source": [
        "# we can use a model to predict as follows\n",
        "lin_reg.predict(data.data[5].reshape(1,-1))  #first sample"
      ],
      "metadata": {
        "colab": {
          "base_uri": "https://localhost:8080/"
        },
        "id": "FpldacF2lJE4",
        "outputId": "09937903-b28e-4150-8a55-dd2ca2578918"
      },
      "execution_count": 19,
      "outputs": [
        {
          "output_type": "execute_result",
          "data": {
            "text/plain": [
              "array([2.67527702])"
            ]
          },
          "metadata": {},
          "execution_count": 19
        }
      ]
    },
    {
      "cell_type": "code",
      "source": [
        "#let's see what was the true value\n",
        "data.target[5]  # Pretty close :)"
      ],
      "metadata": {
        "colab": {
          "base_uri": "https://localhost:8080/"
        },
        "id": "7EN5L6salNH2",
        "outputId": "23f1eb8a-88ec-48f5-cda6-7315ae7a482c"
      },
      "execution_count": 20,
      "outputs": [
        {
          "output_type": "execute_result",
          "data": {
            "text/plain": [
              "2.697"
            ]
          },
          "metadata": {},
          "execution_count": 20
        }
      ]
    },
    {
      "cell_type": "code",
      "source": [
        "#find mean squared error\n",
        "from sklearn.metrics import mean_squared_error\n",
        "mean_squared_error(data.target, lin_reg.predict(data.data))"
      ],
      "metadata": {
        "colab": {
          "base_uri": "https://localhost:8080/"
        },
        "id": "mJSekJYBlOvb",
        "outputId": "1f5e1c4b-f612-4f1a-8d75-d403c4e82251"
      },
      "execution_count": 13,
      "outputs": [
        {
          "output_type": "execute_result",
          "data": {
            "text/plain": [
              "0.5243209861846072"
            ]
          },
          "metadata": {},
          "execution_count": 13
        }
      ]
    },
    {
      "cell_type": "code",
      "source": [
        "#let us calculate mse from scratch to make sure its correct\n",
        "import numpy as np\n",
        "np.mean((lin_reg.predict(data.data) - data.target) ** 2)"
      ],
      "metadata": {
        "colab": {
          "base_uri": "https://localhost:8080/"
        },
        "id": "A4UaVPb2lRV-",
        "outputId": "88c068cc-f5c7-4d5f-abc6-96d3e712af68"
      },
      "execution_count": 14,
      "outputs": [
        {
          "output_type": "execute_result",
          "data": {
            "text/plain": [
              "0.5243209861846072"
            ]
          },
          "metadata": {},
          "execution_count": 14
        }
      ]
    },
    {
      "cell_type": "markdown",
      "source": [
        "# 5 - Deploy a model"
      ],
      "metadata": {
        "id": "4fHkJ9RolnbQ"
      }
    },
    {
      "cell_type": "markdown",
      "source": [
        "We can use **predict** method to predict the price of a house.\n",
        "\n",
        "As you can see, the main benifit of these libraries are we do not have to worry about internal algorithms. It does this work for us."
      ],
      "metadata": {
        "id": "kXbVpC0ylrvV"
      }
    }
  ]
}