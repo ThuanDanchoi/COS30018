{
 "cells": [
  {
   "cell_type": "markdown",
   "metadata": {
    "id": "iD9cvfO4lTUc"
   },
   "source": [
    "# Defining Dataset"
   ]
  },
  {
   "cell_type": "markdown",
   "metadata": {
    "id": "pg9Uzh6klU-3"
   },
   "source": [
    "In this example, you can use the dummy dataset with three columns: weather, temperature, and play. The first two are features(weather, temperature) and the other is the label."
   ]
  },
  {
   "cell_type": "code",
   "execution_count": 1,
   "metadata": {
    "executionInfo": {
     "elapsed": 2,
     "status": "ok",
     "timestamp": 1660836763490,
     "user": {
      "displayName": "Nguyen Gia Hy",
      "userId": "15547678755797027346"
     },
     "user_tz": -600
    },
    "id": "UX_4jg5tlUm0"
   },
   "outputs": [],
   "source": [
    "# Assigning features and label variables\n",
    "weather=['Sunny','Sunny','Overcast','Rainy','Rainy','Rainy','Overcast','Sunny','Sunny','Rainy','Sunny','Overcast','Overcast','Rainy']\n",
    "temp=['Hot','Hot','Hot','Mild','Cool','Cool','Cool','Mild','Cool','Mild','Mild','Mild','Hot','Mild']\n",
    "\n",
    "play=['No','No','Yes','Yes','Yes','No','Yes','No','Yes','Yes','Yes','Yes','Yes','No']"
   ]
  },
  {
   "cell_type": "markdown",
   "metadata": {
    "id": "MVg944b2leDV"
   },
   "source": [
    "# Encoding Features"
   ]
  },
  {
   "cell_type": "markdown",
   "metadata": {
    "id": "XiaDjKvglgj1"
   },
   "source": [
    "First, you need to convert these string labels into numbers. for example: 'Overcast', 'Rainy', 'Sunny' as 0, 1, 2. This is known as label encoding. Scikit-learn provides LabelEncoder library for encoding labels with a value between 0 and one less than the number of discrete classes."
   ]
  },
  {
   "cell_type": "code",
   "execution_count": 3,
   "metadata": {
    "colab": {
     "base_uri": "https://localhost:8080/"
    },
    "executionInfo": {
     "elapsed": 519,
     "status": "ok",
     "timestamp": 1660836822269,
     "user": {
      "displayName": "Nguyen Gia Hy",
      "userId": "15547678755797027346"
     },
     "user_tz": -600
    },
    "id": "hu5GjPq0lZ7_",
    "outputId": "14dad5e7-8458-4ba7-e900-d4daa3e4a72c"
   },
   "outputs": [
    {
     "name": "stdout",
     "output_type": "stream",
     "text": [
      "[2 2 0 1 1 1 0 2 2 1 2 0 0 1]\n"
     ]
    }
   ],
   "source": [
    "# Import LabelEncoder\n",
    "from sklearn import preprocessing\n",
    "#creating labelEncoder\n",
    "le = preprocessing.LabelEncoder()\n",
    "# Converting string labels into numbers.\n",
    "weather_encoded=le.fit_transform(weather)\n",
    "print(weather_encoded)"
   ]
  },
  {
   "cell_type": "markdown",
   "metadata": {
    "id": "YD6oTkP7luvI"
   },
   "source": [
    "Similarly, you can also encode temp and play columns."
   ]
  },
  {
   "cell_type": "code",
   "execution_count": 7,
   "metadata": {
    "colab": {
     "base_uri": "https://localhost:8080/"
    },
    "executionInfo": {
     "elapsed": 274,
     "status": "ok",
     "timestamp": 1660836946358,
     "user": {
      "displayName": "Nguyen Gia Hy",
      "userId": "15547678755797027346"
     },
     "user_tz": -600
    },
    "id": "1MBAVyvHllDO",
    "outputId": "2ec8497d-0376-4b35-a4b1-72fa2cf7c3d7"
   },
   "outputs": [
    {
     "name": "stdout",
     "output_type": "stream",
     "text": [
      "weather: [2 2 0 1 1 1 0 2 2 1 2 0 0 1]\n",
      "Temp: [1 1 1 2 0 0 0 2 0 2 2 2 1 2]\n",
      "Play: [0 0 1 1 1 0 1 0 1 1 1 1 1 0]\n"
     ]
    }
   ],
   "source": [
    "# Converting string labels into numbers\n",
    "temp_encoded = le.fit_transform(temp)\n",
    "label = le.fit_transform(play)\n",
    "\n",
    "print(\"weather:\", weather_encoded)\n",
    "print(\"Temp:\", temp_encoded)\n",
    "print(\"Play:\", label)"
   ]
  },
  {
   "cell_type": "markdown",
   "metadata": {
    "id": "Mgezgbvjl5Nr"
   },
   "source": [
    "Now combine both the features (weather and temp) in a single variable (list of tuples)"
   ]
  },
  {
   "cell_type": "code",
   "execution_count": 11,
   "metadata": {
    "colab": {
     "base_uri": "https://localhost:8080/"
    },
    "executionInfo": {
     "elapsed": 363,
     "status": "ok",
     "timestamp": 1660837129377,
     "user": {
      "displayName": "Nguyen Gia Hy",
      "userId": "15547678755797027346"
     },
     "user_tz": -600
    },
    "id": "frSiQGcQl2BI",
    "outputId": "28f5ba62-384b-4665-ecfe-cc26d03dd1fa"
   },
   "outputs": [
    {
     "name": "stdout",
     "output_type": "stream",
     "text": [
      "[[2, 1], [2, 1], [0, 1], [1, 2], [1, 0], [1, 0], [0, 0], [2, 2], [2, 0], [1, 2], [2, 2], [0, 2], [0, 1], [1, 2]]\n"
     ]
    }
   ],
   "source": [
    "#Combinig weather and temp into single listof tuples\n",
    "features = list(map(list, zip(weather_encoded,temp_encoded)))\n",
    "print(features)"
   ]
  },
  {
   "cell_type": "markdown",
   "metadata": {
    "id": "e2MQlVzGmNVb"
   },
   "source": [
    "# Generating Model"
   ]
  },
  {
   "cell_type": "markdown",
   "metadata": {
    "id": "fb25664mmPBt"
   },
   "source": [
    "Generate a model using naive bayes classifier in the following steps:\n",
    "\n",
    "*   Create naive bayes classifier\n",
    "*   Fit the dataset on classifier\n",
    "*   Perform prediction\n",
    "\n"
   ]
  },
  {
   "cell_type": "code",
   "execution_count": 12,
   "metadata": {
    "colab": {
     "base_uri": "https://localhost:8080/"
    },
    "executionInfo": {
     "elapsed": 283,
     "status": "ok",
     "timestamp": 1660837133580,
     "user": {
      "displayName": "Nguyen Gia Hy",
      "userId": "15547678755797027346"
     },
     "user_tz": -600
    },
    "id": "SB3qcrtal-Ex",
    "outputId": "50aebbb6-2aa1-40d6-9481-f2664b0c5cf0"
   },
   "outputs": [
    {
     "name": "stdout",
     "output_type": "stream",
     "text": [
      "Predicted Value: [1]\n"
     ]
    }
   ],
   "source": [
    "#Import Gaussian Naive Bayes model\n",
    "from sklearn.naive_bayes import GaussianNB\n",
    "\n",
    "#Create a Gaussian Classifier\n",
    "model = GaussianNB()\n",
    "\n",
    "# Train the model using the training sets\n",
    "model.fit(features,label)\n",
    "\n",
    "#Predict Output\n",
    "predicted= model.predict([[0,2]]) # 0:Overcast, 2:Mild\n",
    "print(\"Predicted Value:\", predicted)"
   ]
  },
  {
   "cell_type": "markdown",
   "metadata": {
    "id": "bOHXadHnm51v"
   },
   "source": [
    "Here, 1 indicates that players can 'play'."
   ]
  }
 ],
 "metadata": {
  "colab": {
   "authorship_tag": "ABX9TyMTMfS3ouwFIIXTSNeZW52k",
   "collapsed_sections": [],
   "name": "Naive_Bayes.ipynb",
   "provenance": []
  },
  "kernelspec": {
   "display_name": "Python 3 (ipykernel)",
   "language": "python",
   "name": "python3"
  },
  "language_info": {
   "codemirror_mode": {
    "name": "ipython",
    "version": 3
   },
   "file_extension": ".py",
   "mimetype": "text/x-python",
   "name": "python",
   "nbconvert_exporter": "python",
   "pygments_lexer": "ipython3",
   "version": "3.12.2"
  }
 },
 "nbformat": 4,
 "nbformat_minor": 4
}
