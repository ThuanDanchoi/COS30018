{
 "cells": [
  {
   "cell_type": "markdown",
   "metadata": {
    "id": "-Dp1vu_SNZnd"
   },
   "source": [
    "# 1 - Load the dataset"
   ]
  },
  {
   "cell_type": "markdown",
   "metadata": {
    "id": "-3wVBL2hNe2j"
   },
   "source": [
    "We will use the dataset called \"California Housing\" from sklearn library to demonstration an implementation of a Decision Tree. This dataset has 20640 samples with 8 features (columns). Here target variable is the price of the house."
   ]
  },
  {
   "cell_type": "code",
   "execution_count": 1,
   "metadata": {
    "colab": {
     "base_uri": "https://localhost:8080/"
    },
    "id": "aekGHooig6hB",
    "outputId": "a8c84d4f-f910-4022-bddc-cf9a6e3d985a"
   },
   "outputs": [
    {
     "name": "stdout",
     "output_type": "stream",
     "text": [
      "(20640, 8)\n"
     ]
    }
   ],
   "source": [
    "#import the libs\n",
    "from sklearn.datasets import fetch_california_housing\n",
    "#load the dataset\n",
    "house_data = fetch_california_housing()  #returns dictionary-like object, attributes are - data, target, DESCR\n",
    "#first of all, let's see the shape of the training data\n",
    "print(house_data.data.shape)"
   ]
  },
  {
   "cell_type": "code",
   "execution_count": 2,
   "metadata": {
    "colab": {
     "base_uri": "https://localhost:8080/"
    },
    "id": "Huw63ospOASa",
    "outputId": "fc6992f3-8fa2-43c4-9383-470564fc4dd3"
   },
   "outputs": [
    {
     "name": "stdout",
     "output_type": "stream",
     "text": [
      "(20640,)\n"
     ]
    }
   ],
   "source": [
    "#shape of a target/labels\n",
    "print(house_data.target.shape)"
   ]
  },
  {
   "cell_type": "code",
   "execution_count": 3,
   "metadata": {
    "colab": {
     "base_uri": "https://localhost:8080/"
    },
    "id": "kL32wBcZODKK",
    "outputId": "646a26eb-c154-468e-e145-a4e45b6585dc"
   },
   "outputs": [
    {
     "name": "stdout",
     "output_type": "stream",
     "text": [
      ".. _california_housing_dataset:\n",
      "\n",
      "California Housing dataset\n",
      "--------------------------\n",
      "\n",
      "**Data Set Characteristics:**\n",
      "\n",
      "    :Number of Instances: 20640\n",
      "\n",
      "    :Number of Attributes: 8 numeric, predictive attributes and the target\n",
      "\n",
      "    :Attribute Information:\n",
      "        - MedInc        median income in block group\n",
      "        - HouseAge      median house age in block group\n",
      "        - AveRooms      average number of rooms per household\n",
      "        - AveBedrms     average number of bedrooms per household\n",
      "        - Population    block group population\n",
      "        - AveOccup      average number of household members\n",
      "        - Latitude      block group latitude\n",
      "        - Longitude     block group longitude\n",
      "\n",
      "    :Missing Attribute Values: None\n",
      "\n",
      "This dataset was obtained from the StatLib repository.\n",
      "https://www.dcc.fc.up.pt/~ltorgo/Regression/cal_housing.html\n",
      "\n",
      "The target variable is the median house value for California districts,\n",
      "expressed in hundreds of thousands of dollars ($100,000).\n",
      "\n",
      "This dataset was derived from the 1990 U.S. census, using one row per census\n",
      "block group. A block group is the smallest geographical unit for which the U.S.\n",
      "Census Bureau publishes sample data (a block group typically has a population\n",
      "of 600 to 3,000 people).\n",
      "\n",
      "An household is a group of people residing within a home. Since the average\n",
      "number of rooms and bedrooms in this dataset are provided per household, these\n",
      "columns may take surpinsingly large values for block groups with few households\n",
      "and many empty houses, such as vacation resorts.\n",
      "\n",
      "It can be downloaded/loaded using the\n",
      ":func:`sklearn.datasets.fetch_california_housing` function.\n",
      "\n",
      ".. topic:: References\n",
      "\n",
      "    - Pace, R. Kelley and Ronald Barry, Sparse Spatial Autoregressions,\n",
      "      Statistics and Probability Letters, 33 (1997) 291-297\n",
      "\n"
     ]
    }
   ],
   "source": [
    "#important info about the dataset\n",
    "print(house_data.DESCR)"
   ]
  },
  {
   "cell_type": "code",
   "execution_count": 4,
   "metadata": {
    "id": "ryaYLBHlOFsO"
   },
   "outputs": [],
   "source": [
    "import numpy as np       # Import numpy to use the numpy arrays, the structure of those arrays is designed to be optimal for calculations\n",
    "\n",
    "X = house_data.data      # features of each house\n",
    "X = np.array(X)\n",
    "prices = house_data.target    # price of each house\n",
    "y = [1 if price > 2 else 0 for price in prices]   # 1 is high house price, 0 is low house price\n",
    "y = np.array(y)"
   ]
  },
  {
   "cell_type": "code",
   "execution_count": 5,
   "metadata": {
    "colab": {
     "base_uri": "https://localhost:8080/"
    },
    "id": "eyxoAD5zO9rp",
    "outputId": "0bc2e551-348b-4e5d-b36f-d94afd8b83a3"
   },
   "outputs": [
    {
     "name": "stdout",
     "output_type": "stream",
     "text": [
      "Input features:  MedInc, HouseAge, AveRooms, AveBedrms, Population, AveOccup, Latitude, Longitude\n",
      "(20640, 8)\n"
     ]
    }
   ],
   "source": [
    "print('Input features: ', ', '.join(house_data.feature_names))\n",
    "print(X.shape)"
   ]
  },
  {
   "cell_type": "markdown",
   "metadata": {
    "id": "t18bJfgWQk7e"
   },
   "source": [
    "Meaning of each feature:\n",
    "* MedInc: median income in block group\n",
    "* HouseAge: median house age in block group\n",
    "* AveRooms: average number of rooms per household\n",
    "* AveBedrms: average number of bedrooms per household\n",
    "* Population: block group population\n",
    "* AveOccup: average number of household members\n",
    "* Latitude: block group latitude\n",
    "* Longitude: block group longitude\n",
    "\n",
    "These features contribute when evaluating prices of houses.\n"
   ]
  },
  {
   "cell_type": "markdown",
   "metadata": {
    "id": "m0-raErFRgK5"
   },
   "source": [
    "y = 1 when the house price is greater than 200,000 USD, otherwise y = 0."
   ]
  },
  {
   "cell_type": "markdown",
   "metadata": {
    "id": "x_EKcjksR9Ex"
   },
   "source": [
    "# Build Decision Tree model and train it"
   ]
  },
  {
   "cell_type": "code",
   "execution_count": 6,
   "metadata": {
    "colab": {
     "base_uri": "https://localhost:8080/"
    },
    "id": "odX4VpkjO-Bj",
    "outputId": "a7eb21a6-6753-4d32-f3b1-de3b0b30fd51"
   },
   "outputs": [
    {
     "data": {
      "text/plain": [
       "DecisionTreeClassifier(max_depth=3)"
      ]
     },
     "execution_count": 6,
     "metadata": {},
     "output_type": "execute_result"
    }
   ],
   "source": [
    "from sklearn.tree import DecisionTreeClassifier     # import the Decision Tree model\n",
    "tree_clf = DecisionTreeClassifier(max_depth=3)      # Limit the depth of the tree to prevent overfitting\n",
    "tree_clf.fit(X, y)                                  # Fit data and their label to train the model"
   ]
  },
  {
   "cell_type": "markdown",
   "metadata": {
    "id": "ScGJ9gKHXcYc"
   },
   "source": [
    "# Visualise the Decision Tree"
   ]
  },
  {
   "cell_type": "markdown",
   "metadata": {
    "id": "pN6-PicpXkAi"
   },
   "source": [
    "We use function export_graphviz() to visualise the Decision Tree. In this function, we just need to pass the trained Decision Tree model, feature names, and labels via the parameter \"class_names\""
   ]
  },
  {
   "cell_type": "code",
   "execution_count": 7,
   "metadata": {
    "colab": {
     "base_uri": "https://localhost:8080/",
     "height": 599
    },
    "id": "xoPFyaEXSOmd",
    "outputId": "a041fc93-0d65-47aa-ec2f-4f639312eb21"
   },
   "outputs": [
    {
     "data": {
      "image/svg+xml": [
       "<?xml version=\"1.0\" encoding=\"UTF-8\" standalone=\"no\"?>\n",
       "<!DOCTYPE svg PUBLIC \"-//W3C//DTD SVG 1.1//EN\"\n",
       " \"http://www.w3.org/Graphics/SVG/1.1/DTD/svg11.dtd\">\n",
       "<!-- Generated by graphviz version 2.40.1 (20161225.0304)\n",
       " -->\n",
       "<!-- Title: Tree Pages: 1 -->\n",
       "<svg width=\"1256pt\" height=\"433pt\"\n",
       " viewBox=\"0.00 0.00 1256.00 433.00\" xmlns=\"http://www.w3.org/2000/svg\" xmlns:xlink=\"http://www.w3.org/1999/xlink\">\n",
       "<g id=\"graph0\" class=\"graph\" transform=\"scale(1 1) rotate(0) translate(4 429)\">\n",
       "<title>Tree</title>\n",
       "<polygon fill=\"#ffffff\" stroke=\"transparent\" points=\"-4,4 -4,-429 1252,-429 1252,4 -4,4\"/>\n",
       "<!-- 0 -->\n",
       "<g id=\"node1\" class=\"node\">\n",
       "<title>0</title>\n",
       "<path fill=\"#f8ddca\" stroke=\"#000000\" d=\"M692.5,-425C692.5,-425 559.5,-425 559.5,-425 553.5,-425 547.5,-419 547.5,-413 547.5,-413 547.5,-354 547.5,-354 547.5,-348 553.5,-342 559.5,-342 559.5,-342 692.5,-342 692.5,-342 698.5,-342 704.5,-348 704.5,-354 704.5,-354 704.5,-413 704.5,-413 704.5,-419 698.5,-425 692.5,-425\"/>\n",
       "<text text-anchor=\"middle\" x=\"626\" y=\"-409.8\" font-family=\"Helvetica,sans-Serif\" font-size=\"14.00\" fill=\"#000000\">MedInc &lt;= 4.12</text>\n",
       "<text text-anchor=\"middle\" x=\"626\" y=\"-394.8\" font-family=\"Helvetica,sans-Serif\" font-size=\"14.00\" fill=\"#000000\">gini = 0.488</text>\n",
       "<text text-anchor=\"middle\" x=\"626\" y=\"-379.8\" font-family=\"Helvetica,sans-Serif\" font-size=\"14.00\" fill=\"#000000\">samples = 20640</text>\n",
       "<text text-anchor=\"middle\" x=\"626\" y=\"-364.8\" font-family=\"Helvetica,sans-Serif\" font-size=\"14.00\" fill=\"#000000\">value = [11931, 8709]</text>\n",
       "<text text-anchor=\"middle\" x=\"626\" y=\"-349.8\" font-family=\"Helvetica,sans-Serif\" font-size=\"14.00\" fill=\"#000000\">class = low</text>\n",
       "</g>\n",
       "<!-- 1 -->\n",
       "<g id=\"node2\" class=\"node\">\n",
       "<title>1</title>\n",
       "<path fill=\"#eda775\" stroke=\"#000000\" d=\"M534.5,-306C534.5,-306 401.5,-306 401.5,-306 395.5,-306 389.5,-300 389.5,-294 389.5,-294 389.5,-235 389.5,-235 389.5,-229 395.5,-223 401.5,-223 401.5,-223 534.5,-223 534.5,-223 540.5,-223 546.5,-229 546.5,-235 546.5,-235 546.5,-294 546.5,-294 546.5,-300 540.5,-306 534.5,-306\"/>\n",
       "<text text-anchor=\"middle\" x=\"468\" y=\"-290.8\" font-family=\"Helvetica,sans-Serif\" font-size=\"14.00\" fill=\"#000000\">AveOccup &lt;= 2.344</text>\n",
       "<text text-anchor=\"middle\" x=\"468\" y=\"-275.8\" font-family=\"Helvetica,sans-Serif\" font-size=\"14.00\" fill=\"#000000\">gini = 0.358</text>\n",
       "<text text-anchor=\"middle\" x=\"468\" y=\"-260.8\" font-family=\"Helvetica,sans-Serif\" font-size=\"14.00\" fill=\"#000000\">samples = 13162</text>\n",
       "<text text-anchor=\"middle\" x=\"468\" y=\"-245.8\" font-family=\"Helvetica,sans-Serif\" font-size=\"14.00\" fill=\"#000000\">value = [10085, 3077]</text>\n",
       "<text text-anchor=\"middle\" x=\"468\" y=\"-230.8\" font-family=\"Helvetica,sans-Serif\" font-size=\"14.00\" fill=\"#000000\">class = low</text>\n",
       "</g>\n",
       "<!-- 0&#45;&gt;1 -->\n",
       "<g id=\"edge1\" class=\"edge\">\n",
       "<title>0&#45;&gt;1</title>\n",
       "<path fill=\"none\" stroke=\"#000000\" d=\"M570.7393,-341.8796C557.9901,-332.2774 544.3317,-321.9903 531.2709,-312.1534\"/>\n",
       "<polygon fill=\"#000000\" stroke=\"#000000\" points=\"533.3231,-309.3174 523.2295,-306.0969 529.1117,-314.9089 533.3231,-309.3174\"/>\n",
       "<text text-anchor=\"middle\" x=\"526.715\" y=\"-327.1528\" font-family=\"Helvetica,sans-Serif\" font-size=\"14.00\" fill=\"#000000\">True</text>\n",
       "</g>\n",
       "<!-- 8 -->\n",
       "<g id=\"node9\" class=\"node\">\n",
       "<title>8</title>\n",
       "<path fill=\"#7abdee\" stroke=\"#000000\" d=\"M850.5,-306C850.5,-306 725.5,-306 725.5,-306 719.5,-306 713.5,-300 713.5,-294 713.5,-294 713.5,-235 713.5,-235 713.5,-229 719.5,-223 725.5,-223 725.5,-223 850.5,-223 850.5,-223 856.5,-223 862.5,-229 862.5,-235 862.5,-235 862.5,-294 862.5,-294 862.5,-300 856.5,-306 850.5,-306\"/>\n",
       "<text text-anchor=\"middle\" x=\"788\" y=\"-290.8\" font-family=\"Helvetica,sans-Serif\" font-size=\"14.00\" fill=\"#000000\">MedInc &lt;= 5.338</text>\n",
       "<text text-anchor=\"middle\" x=\"788\" y=\"-275.8\" font-family=\"Helvetica,sans-Serif\" font-size=\"14.00\" fill=\"#000000\">gini = 0.372</text>\n",
       "<text text-anchor=\"middle\" x=\"788\" y=\"-260.8\" font-family=\"Helvetica,sans-Serif\" font-size=\"14.00\" fill=\"#000000\">samples = 7478</text>\n",
       "<text text-anchor=\"middle\" x=\"788\" y=\"-245.8\" font-family=\"Helvetica,sans-Serif\" font-size=\"14.00\" fill=\"#000000\">value = [1846, 5632]</text>\n",
       "<text text-anchor=\"middle\" x=\"788\" y=\"-230.8\" font-family=\"Helvetica,sans-Serif\" font-size=\"14.00\" fill=\"#000000\">class = high</text>\n",
       "</g>\n",
       "<!-- 0&#45;&gt;8 -->\n",
       "<g id=\"edge8\" class=\"edge\">\n",
       "<title>0&#45;&gt;8</title>\n",
       "<path fill=\"none\" stroke=\"#000000\" d=\"M682.6597,-341.8796C695.7316,-332.2774 709.7359,-321.9903 723.1273,-312.1534\"/>\n",
       "<polygon fill=\"#000000\" stroke=\"#000000\" points=\"725.385,-314.8378 731.3723,-306.0969 721.2409,-309.1963 725.385,-314.8378\"/>\n",
       "<text text-anchor=\"middle\" x=\"727.5907\" y=\"-327.1093\" font-family=\"Helvetica,sans-Serif\" font-size=\"14.00\" fill=\"#000000\">False</text>\n",
       "</g>\n",
       "<!-- 2 -->\n",
       "<g id=\"node3\" class=\"node\">\n",
       "<title>2</title>\n",
       "<path fill=\"#fbeade\" stroke=\"#000000\" d=\"M290.5,-187C290.5,-187 165.5,-187 165.5,-187 159.5,-187 153.5,-181 153.5,-175 153.5,-175 153.5,-116 153.5,-116 153.5,-110 159.5,-104 165.5,-104 165.5,-104 290.5,-104 290.5,-104 296.5,-104 302.5,-110 302.5,-116 302.5,-116 302.5,-175 302.5,-175 302.5,-181 296.5,-187 290.5,-187\"/>\n",
       "<text text-anchor=\"middle\" x=\"228\" y=\"-171.8\" font-family=\"Helvetica,sans-Serif\" font-size=\"14.00\" fill=\"#000000\">MedInc &lt;= 2.702</text>\n",
       "<text text-anchor=\"middle\" x=\"228\" y=\"-156.8\" font-family=\"Helvetica,sans-Serif\" font-size=\"14.00\" fill=\"#000000\">gini = 0.496</text>\n",
       "<text text-anchor=\"middle\" x=\"228\" y=\"-141.8\" font-family=\"Helvetica,sans-Serif\" font-size=\"14.00\" fill=\"#000000\">samples = 3056</text>\n",
       "<text text-anchor=\"middle\" x=\"228\" y=\"-126.8\" font-family=\"Helvetica,sans-Serif\" font-size=\"14.00\" fill=\"#000000\">value = [1665, 1391]</text>\n",
       "<text text-anchor=\"middle\" x=\"228\" y=\"-111.8\" font-family=\"Helvetica,sans-Serif\" font-size=\"14.00\" fill=\"#000000\">class = low</text>\n",
       "</g>\n",
       "<!-- 1&#45;&gt;2 -->\n",
       "<g id=\"edge2\" class=\"edge\">\n",
       "<title>1&#45;&gt;2</title>\n",
       "<path fill=\"none\" stroke=\"#000000\" d=\"M389.415,-225.5349C364.577,-213.2194 337.0409,-199.5661 311.8492,-187.0752\"/>\n",
       "<polygon fill=\"#000000\" stroke=\"#000000\" points=\"313.1974,-183.8371 302.6835,-182.5305 310.0878,-190.1086 313.1974,-183.8371\"/>\n",
       "</g>\n",
       "<!-- 5 -->\n",
       "<g id=\"node6\" class=\"node\">\n",
       "<title>5</title>\n",
       "<path fill=\"#ea9a61\" stroke=\"#000000\" d=\"M530.5,-187C530.5,-187 405.5,-187 405.5,-187 399.5,-187 393.5,-181 393.5,-175 393.5,-175 393.5,-116 393.5,-116 393.5,-110 399.5,-104 405.5,-104 405.5,-104 530.5,-104 530.5,-104 536.5,-104 542.5,-110 542.5,-116 542.5,-116 542.5,-175 542.5,-175 542.5,-181 536.5,-187 530.5,-187\"/>\n",
       "<text text-anchor=\"middle\" x=\"468\" y=\"-171.8\" font-family=\"Helvetica,sans-Serif\" font-size=\"14.00\" fill=\"#000000\">MedInc &lt;= 3.105</text>\n",
       "<text text-anchor=\"middle\" x=\"468\" y=\"-156.8\" font-family=\"Helvetica,sans-Serif\" font-size=\"14.00\" fill=\"#000000\">gini = 0.278</text>\n",
       "<text text-anchor=\"middle\" x=\"468\" y=\"-141.8\" font-family=\"Helvetica,sans-Serif\" font-size=\"14.00\" fill=\"#000000\">samples = 10106</text>\n",
       "<text text-anchor=\"middle\" x=\"468\" y=\"-126.8\" font-family=\"Helvetica,sans-Serif\" font-size=\"14.00\" fill=\"#000000\">value = [8420, 1686]</text>\n",
       "<text text-anchor=\"middle\" x=\"468\" y=\"-111.8\" font-family=\"Helvetica,sans-Serif\" font-size=\"14.00\" fill=\"#000000\">class = low</text>\n",
       "</g>\n",
       "<!-- 1&#45;&gt;5 -->\n",
       "<g id=\"edge5\" class=\"edge\">\n",
       "<title>1&#45;&gt;5</title>\n",
       "<path fill=\"none\" stroke=\"#000000\" d=\"M468,-222.8796C468,-214.6838 468,-205.9891 468,-197.5013\"/>\n",
       "<polygon fill=\"#000000\" stroke=\"#000000\" points=\"471.5001,-197.298 468,-187.2981 464.5001,-197.2981 471.5001,-197.298\"/>\n",
       "</g>\n",
       "<!-- 3 -->\n",
       "<g id=\"node4\" class=\"node\">\n",
       "<title>3</title>\n",
       "<path fill=\"#eda774\" stroke=\"#000000\" d=\"M128,-68C128,-68 12,-68 12,-68 6,-68 0,-62 0,-56 0,-56 0,-12 0,-12 0,-6 6,0 12,0 12,0 128,0 128,0 134,0 140,-6 140,-12 140,-12 140,-56 140,-56 140,-62 134,-68 128,-68\"/>\n",
       "<text text-anchor=\"middle\" x=\"70\" y=\"-52.8\" font-family=\"Helvetica,sans-Serif\" font-size=\"14.00\" fill=\"#000000\">gini = 0.354</text>\n",
       "<text text-anchor=\"middle\" x=\"70\" y=\"-37.8\" font-family=\"Helvetica,sans-Serif\" font-size=\"14.00\" fill=\"#000000\">samples = 1341</text>\n",
       "<text text-anchor=\"middle\" x=\"70\" y=\"-22.8\" font-family=\"Helvetica,sans-Serif\" font-size=\"14.00\" fill=\"#000000\">value = [1033, 308]</text>\n",
       "<text text-anchor=\"middle\" x=\"70\" y=\"-7.8\" font-family=\"Helvetica,sans-Serif\" font-size=\"14.00\" fill=\"#000000\">class = low</text>\n",
       "</g>\n",
       "<!-- 2&#45;&gt;3 -->\n",
       "<g id=\"edge3\" class=\"edge\">\n",
       "<title>2&#45;&gt;3</title>\n",
       "<path fill=\"none\" stroke=\"#000000\" d=\"M169.1666,-103.9815C155.289,-94.1881 140.5216,-83.7668 126.7386,-74.0402\"/>\n",
       "<polygon fill=\"#000000\" stroke=\"#000000\" points=\"128.4892,-70.9918 118.3007,-68.0856 124.4531,-76.7111 128.4892,-70.9918\"/>\n",
       "</g>\n",
       "<!-- 4 -->\n",
       "<g id=\"node5\" class=\"node\">\n",
       "<title>4</title>\n",
       "<path fill=\"#add6f4\" stroke=\"#000000\" d=\"M286,-68C286,-68 170,-68 170,-68 164,-68 158,-62 158,-56 158,-56 158,-12 158,-12 158,-6 164,0 170,0 170,0 286,0 286,0 292,0 298,-6 298,-12 298,-12 298,-56 298,-56 298,-62 292,-68 286,-68\"/>\n",
       "<text text-anchor=\"middle\" x=\"228\" y=\"-52.8\" font-family=\"Helvetica,sans-Serif\" font-size=\"14.00\" fill=\"#000000\">gini = 0.465</text>\n",
       "<text text-anchor=\"middle\" x=\"228\" y=\"-37.8\" font-family=\"Helvetica,sans-Serif\" font-size=\"14.00\" fill=\"#000000\">samples = 1715</text>\n",
       "<text text-anchor=\"middle\" x=\"228\" y=\"-22.8\" font-family=\"Helvetica,sans-Serif\" font-size=\"14.00\" fill=\"#000000\">value = [632, 1083]</text>\n",
       "<text text-anchor=\"middle\" x=\"228\" y=\"-7.8\" font-family=\"Helvetica,sans-Serif\" font-size=\"14.00\" fill=\"#000000\">class = high</text>\n",
       "</g>\n",
       "<!-- 2&#45;&gt;4 -->\n",
       "<g id=\"edge4\" class=\"edge\">\n",
       "<title>2&#45;&gt;4</title>\n",
       "<path fill=\"none\" stroke=\"#000000\" d=\"M228,-103.9815C228,-95.618 228,-86.7965 228,-78.3409\"/>\n",
       "<polygon fill=\"#000000\" stroke=\"#000000\" points=\"231.5001,-78.2636 228,-68.2637 224.5001,-78.2637 231.5001,-78.2636\"/>\n",
       "</g>\n",
       "<!-- 6 -->\n",
       "<g id=\"node7\" class=\"node\">\n",
       "<title>6</title>\n",
       "<path fill=\"#e88f4f\" stroke=\"#000000\" d=\"M444,-68C444,-68 328,-68 328,-68 322,-68 316,-62 316,-56 316,-56 316,-12 316,-12 316,-6 322,0 328,0 328,0 444,0 444,0 450,0 456,-6 456,-12 456,-12 456,-56 456,-56 456,-62 450,-68 444,-68\"/>\n",
       "<text text-anchor=\"middle\" x=\"386\" y=\"-52.8\" font-family=\"Helvetica,sans-Serif\" font-size=\"14.00\" fill=\"#000000\">gini = 0.18</text>\n",
       "<text text-anchor=\"middle\" x=\"386\" y=\"-37.8\" font-family=\"Helvetica,sans-Serif\" font-size=\"14.00\" fill=\"#000000\">samples = 6192</text>\n",
       "<text text-anchor=\"middle\" x=\"386\" y=\"-22.8\" font-family=\"Helvetica,sans-Serif\" font-size=\"14.00\" fill=\"#000000\">value = [5571, 621]</text>\n",
       "<text text-anchor=\"middle\" x=\"386\" y=\"-7.8\" font-family=\"Helvetica,sans-Serif\" font-size=\"14.00\" fill=\"#000000\">class = low</text>\n",
       "</g>\n",
       "<!-- 5&#45;&gt;6 -->\n",
       "<g id=\"edge6\" class=\"edge\">\n",
       "<title>5&#45;&gt;6</title>\n",
       "<path fill=\"none\" stroke=\"#000000\" d=\"M437.4662,-103.9815C430.8424,-94.9747 423.8279,-85.4367 417.1795,-76.3965\"/>\n",
       "<polygon fill=\"#000000\" stroke=\"#000000\" points=\"419.9426,-74.2461 411.1984,-68.2637 414.3034,-78.3933 419.9426,-74.2461\"/>\n",
       "</g>\n",
       "<!-- 7 -->\n",
       "<g id=\"node8\" class=\"node\">\n",
       "<title>7</title>\n",
       "<path fill=\"#efb083\" stroke=\"#000000\" d=\"M611.5,-68C611.5,-68 486.5,-68 486.5,-68 480.5,-68 474.5,-62 474.5,-56 474.5,-56 474.5,-12 474.5,-12 474.5,-6 480.5,0 486.5,0 486.5,0 611.5,0 611.5,0 617.5,0 623.5,-6 623.5,-12 623.5,-12 623.5,-56 623.5,-56 623.5,-62 617.5,-68 611.5,-68\"/>\n",
       "<text text-anchor=\"middle\" x=\"549\" y=\"-52.8\" font-family=\"Helvetica,sans-Serif\" font-size=\"14.00\" fill=\"#000000\">gini = 0.396</text>\n",
       "<text text-anchor=\"middle\" x=\"549\" y=\"-37.8\" font-family=\"Helvetica,sans-Serif\" font-size=\"14.00\" fill=\"#000000\">samples = 3914</text>\n",
       "<text text-anchor=\"middle\" x=\"549\" y=\"-22.8\" font-family=\"Helvetica,sans-Serif\" font-size=\"14.00\" fill=\"#000000\">value = [2849, 1065]</text>\n",
       "<text text-anchor=\"middle\" x=\"549\" y=\"-7.8\" font-family=\"Helvetica,sans-Serif\" font-size=\"14.00\" fill=\"#000000\">class = low</text>\n",
       "</g>\n",
       "<!-- 5&#45;&gt;7 -->\n",
       "<g id=\"edge7\" class=\"edge\">\n",
       "<title>5&#45;&gt;7</title>\n",
       "<path fill=\"none\" stroke=\"#000000\" d=\"M498.1614,-103.9815C504.7045,-94.9747 511.6334,-85.4367 518.2008,-76.3965\"/>\n",
       "<polygon fill=\"#000000\" stroke=\"#000000\" points=\"521.0631,-78.4113 524.1089,-68.2637 515.3998,-74.2971 521.0631,-78.4113\"/>\n",
       "</g>\n",
       "<!-- 9 -->\n",
       "<g id=\"node10\" class=\"node\">\n",
       "<title>9</title>\n",
       "<path fill=\"#bedff7\" stroke=\"#000000\" d=\"M850.5,-187C850.5,-187 725.5,-187 725.5,-187 719.5,-187 713.5,-181 713.5,-175 713.5,-175 713.5,-116 713.5,-116 713.5,-110 719.5,-104 725.5,-104 725.5,-104 850.5,-104 850.5,-104 856.5,-104 862.5,-110 862.5,-116 862.5,-116 862.5,-175 862.5,-175 862.5,-181 856.5,-187 850.5,-187\"/>\n",
       "<text text-anchor=\"middle\" x=\"788\" y=\"-171.8\" font-family=\"Helvetica,sans-Serif\" font-size=\"14.00\" fill=\"#000000\">AveOccup &lt;= 2.887</text>\n",
       "<text text-anchor=\"middle\" x=\"788\" y=\"-156.8\" font-family=\"Helvetica,sans-Serif\" font-size=\"14.00\" fill=\"#000000\">gini = 0.481</text>\n",
       "<text text-anchor=\"middle\" x=\"788\" y=\"-141.8\" font-family=\"Helvetica,sans-Serif\" font-size=\"14.00\" fill=\"#000000\">samples = 3961</text>\n",
       "<text text-anchor=\"middle\" x=\"788\" y=\"-126.8\" font-family=\"Helvetica,sans-Serif\" font-size=\"14.00\" fill=\"#000000\">value = [1594, 2367]</text>\n",
       "<text text-anchor=\"middle\" x=\"788\" y=\"-111.8\" font-family=\"Helvetica,sans-Serif\" font-size=\"14.00\" fill=\"#000000\">class = high</text>\n",
       "</g>\n",
       "<!-- 8&#45;&gt;9 -->\n",
       "<g id=\"edge9\" class=\"edge\">\n",
       "<title>8&#45;&gt;9</title>\n",
       "<path fill=\"none\" stroke=\"#000000\" d=\"M788,-222.8796C788,-214.6838 788,-205.9891 788,-197.5013\"/>\n",
       "<polygon fill=\"#000000\" stroke=\"#000000\" points=\"791.5001,-197.298 788,-187.2981 784.5001,-197.2981 791.5001,-197.298\"/>\n",
       "</g>\n",
       "<!-- 12 -->\n",
       "<g id=\"node13\" class=\"node\">\n",
       "<title>12</title>\n",
       "<path fill=\"#48a5e7\" stroke=\"#000000\" d=\"M1086,-187C1086,-187 970,-187 970,-187 964,-187 958,-181 958,-175 958,-175 958,-116 958,-116 958,-110 964,-104 970,-104 970,-104 1086,-104 1086,-104 1092,-104 1098,-110 1098,-116 1098,-116 1098,-175 1098,-175 1098,-181 1092,-187 1086,-187\"/>\n",
       "<text text-anchor=\"middle\" x=\"1028\" y=\"-171.8\" font-family=\"Helvetica,sans-Serif\" font-size=\"14.00\" fill=\"#000000\">MedInc &lt;= 6.075</text>\n",
       "<text text-anchor=\"middle\" x=\"1028\" y=\"-156.8\" font-family=\"Helvetica,sans-Serif\" font-size=\"14.00\" fill=\"#000000\">gini = 0.133</text>\n",
       "<text text-anchor=\"middle\" x=\"1028\" y=\"-141.8\" font-family=\"Helvetica,sans-Serif\" font-size=\"14.00\" fill=\"#000000\">samples = 3517</text>\n",
       "<text text-anchor=\"middle\" x=\"1028\" y=\"-126.8\" font-family=\"Helvetica,sans-Serif\" font-size=\"14.00\" fill=\"#000000\">value = [252, 3265]</text>\n",
       "<text text-anchor=\"middle\" x=\"1028\" y=\"-111.8\" font-family=\"Helvetica,sans-Serif\" font-size=\"14.00\" fill=\"#000000\">class = high</text>\n",
       "</g>\n",
       "<!-- 8&#45;&gt;12 -->\n",
       "<g id=\"edge12\" class=\"edge\">\n",
       "<title>8&#45;&gt;12</title>\n",
       "<path fill=\"none\" stroke=\"#000000\" d=\"M862.6219,-227.5C889.9436,-213.953 920.9457,-198.5811 948.6648,-184.837\"/>\n",
       "<polygon fill=\"#000000\" stroke=\"#000000\" points=\"950.525,-187.8214 957.9293,-180.2434 947.4154,-181.55 950.525,-187.8214\"/>\n",
       "</g>\n",
       "<!-- 10 -->\n",
       "<g id=\"node11\" class=\"node\">\n",
       "<title>10</title>\n",
       "<path fill=\"#7dbfee\" stroke=\"#000000\" d=\"M770,-68C770,-68 654,-68 654,-68 648,-68 642,-62 642,-56 642,-56 642,-12 642,-12 642,-6 648,0 654,0 654,0 770,0 770,0 776,0 782,-6 782,-12 782,-12 782,-56 782,-56 782,-62 776,-68 770,-68\"/>\n",
       "<text text-anchor=\"middle\" x=\"712\" y=\"-52.8\" font-family=\"Helvetica,sans-Serif\" font-size=\"14.00\" fill=\"#000000\">gini = 0.38</text>\n",
       "<text text-anchor=\"middle\" x=\"712\" y=\"-37.8\" font-family=\"Helvetica,sans-Serif\" font-size=\"14.00\" fill=\"#000000\">samples = 2221</text>\n",
       "<text text-anchor=\"middle\" x=\"712\" y=\"-22.8\" font-family=\"Helvetica,sans-Serif\" font-size=\"14.00\" fill=\"#000000\">value = [566, 1655]</text>\n",
       "<text text-anchor=\"middle\" x=\"712\" y=\"-7.8\" font-family=\"Helvetica,sans-Serif\" font-size=\"14.00\" fill=\"#000000\">class = high</text>\n",
       "</g>\n",
       "<!-- 9&#45;&gt;10 -->\n",
       "<g id=\"edge10\" class=\"edge\">\n",
       "<title>9&#45;&gt;10</title>\n",
       "<path fill=\"none\" stroke=\"#000000\" d=\"M759.7004,-103.9815C753.6238,-95.0666 747.1926,-85.6313 741.0868,-76.6734\"/>\n",
       "<polygon fill=\"#000000\" stroke=\"#000000\" points=\"743.8789,-74.5555 735.3546,-68.2637 738.0948,-78.498 743.8789,-74.5555\"/>\n",
       "</g>\n",
       "<!-- 11 -->\n",
       "<g id=\"node12\" class=\"node\">\n",
       "<title>11</title>\n",
       "<path fill=\"#f7d8c2\" stroke=\"#000000\" d=\"M928,-68C928,-68 812,-68 812,-68 806,-68 800,-62 800,-56 800,-56 800,-12 800,-12 800,-6 806,0 812,0 812,0 928,0 928,0 934,0 940,-6 940,-12 940,-12 940,-56 940,-56 940,-62 934,-68 928,-68\"/>\n",
       "<text text-anchor=\"middle\" x=\"870\" y=\"-52.8\" font-family=\"Helvetica,sans-Serif\" font-size=\"14.00\" fill=\"#000000\">gini = 0.484</text>\n",
       "<text text-anchor=\"middle\" x=\"870\" y=\"-37.8\" font-family=\"Helvetica,sans-Serif\" font-size=\"14.00\" fill=\"#000000\">samples = 1740</text>\n",
       "<text text-anchor=\"middle\" x=\"870\" y=\"-22.8\" font-family=\"Helvetica,sans-Serif\" font-size=\"14.00\" fill=\"#000000\">value = [1028, 712]</text>\n",
       "<text text-anchor=\"middle\" x=\"870\" y=\"-7.8\" font-family=\"Helvetica,sans-Serif\" font-size=\"14.00\" fill=\"#000000\">class = low</text>\n",
       "</g>\n",
       "<!-- 9&#45;&gt;11 -->\n",
       "<g id=\"edge11\" class=\"edge\">\n",
       "<title>9&#45;&gt;11</title>\n",
       "<path fill=\"none\" stroke=\"#000000\" d=\"M818.5338,-103.9815C825.1576,-94.9747 832.1721,-85.4367 838.8205,-76.3965\"/>\n",
       "<polygon fill=\"#000000\" stroke=\"#000000\" points=\"841.6966,-78.3933 844.8016,-68.2637 836.0574,-74.2461 841.6966,-78.3933\"/>\n",
       "</g>\n",
       "<!-- 13 -->\n",
       "<g id=\"node14\" class=\"node\">\n",
       "<title>13</title>\n",
       "<path fill=\"#5baee9\" stroke=\"#000000\" d=\"M1086,-68C1086,-68 970,-68 970,-68 964,-68 958,-62 958,-56 958,-56 958,-12 958,-12 958,-6 964,0 970,0 970,0 1086,0 1086,0 1092,0 1098,-6 1098,-12 1098,-12 1098,-56 1098,-56 1098,-62 1092,-68 1086,-68\"/>\n",
       "<text text-anchor=\"middle\" x=\"1028\" y=\"-52.8\" font-family=\"Helvetica,sans-Serif\" font-size=\"14.00\" fill=\"#000000\">gini = 0.25</text>\n",
       "<text text-anchor=\"middle\" x=\"1028\" y=\"-37.8\" font-family=\"Helvetica,sans-Serif\" font-size=\"14.00\" fill=\"#000000\">samples = 1289</text>\n",
       "<text text-anchor=\"middle\" x=\"1028\" y=\"-22.8\" font-family=\"Helvetica,sans-Serif\" font-size=\"14.00\" fill=\"#000000\">value = [189, 1100]</text>\n",
       "<text text-anchor=\"middle\" x=\"1028\" y=\"-7.8\" font-family=\"Helvetica,sans-Serif\" font-size=\"14.00\" fill=\"#000000\">class = high</text>\n",
       "</g>\n",
       "<!-- 12&#45;&gt;13 -->\n",
       "<g id=\"edge13\" class=\"edge\">\n",
       "<title>12&#45;&gt;13</title>\n",
       "<path fill=\"none\" stroke=\"#000000\" d=\"M1028,-103.9815C1028,-95.618 1028,-86.7965 1028,-78.3409\"/>\n",
       "<polygon fill=\"#000000\" stroke=\"#000000\" points=\"1031.5001,-78.2636 1028,-68.2637 1024.5001,-78.2637 1031.5001,-78.2636\"/>\n",
       "</g>\n",
       "<!-- 14 -->\n",
       "<g id=\"node15\" class=\"node\">\n",
       "<title>14</title>\n",
       "<path fill=\"#3fa0e6\" stroke=\"#000000\" d=\"M1236,-68C1236,-68 1128,-68 1128,-68 1122,-68 1116,-62 1116,-56 1116,-56 1116,-12 1116,-12 1116,-6 1122,0 1128,0 1128,0 1236,0 1236,0 1242,0 1248,-6 1248,-12 1248,-12 1248,-56 1248,-56 1248,-62 1242,-68 1236,-68\"/>\n",
       "<text text-anchor=\"middle\" x=\"1182\" y=\"-52.8\" font-family=\"Helvetica,sans-Serif\" font-size=\"14.00\" fill=\"#000000\">gini = 0.055</text>\n",
       "<text text-anchor=\"middle\" x=\"1182\" y=\"-37.8\" font-family=\"Helvetica,sans-Serif\" font-size=\"14.00\" fill=\"#000000\">samples = 2228</text>\n",
       "<text text-anchor=\"middle\" x=\"1182\" y=\"-22.8\" font-family=\"Helvetica,sans-Serif\" font-size=\"14.00\" fill=\"#000000\">value = [63, 2165]</text>\n",
       "<text text-anchor=\"middle\" x=\"1182\" y=\"-7.8\" font-family=\"Helvetica,sans-Serif\" font-size=\"14.00\" fill=\"#000000\">class = high</text>\n",
       "</g>\n",
       "<!-- 12&#45;&gt;14 -->\n",
       "<g id=\"edge14\" class=\"edge\">\n",
       "<title>12&#45;&gt;14</title>\n",
       "<path fill=\"none\" stroke=\"#000000\" d=\"M1085.3439,-103.9815C1098.7994,-94.2394 1113.1131,-83.8759 1126.4867,-74.193\"/>\n",
       "<polygon fill=\"#000000\" stroke=\"#000000\" points=\"1128.6289,-76.9632 1134.6762,-68.2637 1124.5237,-71.2933 1128.6289,-76.9632\"/>\n",
       "</g>\n",
       "</g>\n",
       "</svg>\n"
      ],
      "text/plain": [
       "<graphviz.files.Source at 0x7f94b6cd5bd0>"
      ]
     },
     "execution_count": 7,
     "metadata": {},
     "output_type": "execute_result"
    }
   ],
   "source": [
    "import graphviz\n",
    "from sklearn import tree\n",
    "\n",
    "dot_data = tree.export_graphviz(tree_clf, out_file = None, \n",
    "                                feature_names = house_data.feature_names,  \n",
    "                                class_names = ['low', 'high'],\n",
    "                                rounded = True,\n",
    "                                filled = True)\n",
    "\n",
    "graph = graphviz.Source(dot_data, format=\"png\")\n",
    "graph"
   ]
  },
  {
   "cell_type": "markdown",
   "metadata": {
    "id": "_pThMTmDgqVo"
   },
   "source": [
    "# Test the Decisicion Tree"
   ]
  },
  {
   "cell_type": "markdown",
   "metadata": {
    "id": "cnfzLpMMgu33"
   },
   "source": [
    "We will test the trained Decision Tree against the value of the first sample in the dataset (X[0]) and see if our Decision Tree can predict the correct label (0 or 1) for this sample."
   ]
  },
  {
   "cell_type": "code",
   "execution_count": 8,
   "metadata": {
    "colab": {
     "base_uri": "https://localhost:8080/"
    },
    "id": "cWupNfzXYevR",
    "outputId": "8685aeed-de8e-4fa2-b481-3cd5eca8d94f"
   },
   "outputs": [
    {
     "name": "stdout",
     "output_type": "stream",
     "text": [
      "The true price of this house is: 452,600.0 USD\n",
      "The probabilities generated by our Decision Tree are:\n",
      "Probability y = 0 (low price): 0.02827648114901257\n",
      "Probability y = 1 (high price): 0.9717235188509874\n",
      "Predicted label 1\n",
      "(1 means high price (> 200,000 USD), 0 means low price (<= 200,000 USD))\n"
     ]
    }
   ],
   "source": [
    "import pandas as pd\n",
    "\n",
    "x = X[0].reshape(1, -1)     # Reshape to 2D array, because the function predict_proba() requires the parameter in 2D array\n",
    "print(\"The true price of this house is: {:,} USD\".format(prices[0] * 100000))\n",
    "y_pred = tree_clf.predict_proba(x)\n",
    "print(\"The probabilities generated by our Decision Tree are:\")\n",
    "print('Probability y = 0 (low price): {}'.format(y_pred[0][0]))\n",
    "print('Probability y = 1 (high price): {}'.format(y_pred[0][1]))\n",
    "print('Predicted label {}'.format(tree_clf.predict(x)[0]))\n",
    "print('(1 means high price (> 200,000 USD), 0 means low price (<= 200,000 USD))')"
   ]
  }
 ],
 "metadata": {
  "colab": {
   "collapsed_sections": [],
   "name": "Decision_Tree.ipynb",
   "provenance": []
  },
  "kernelspec": {
   "display_name": "Python 3 (ipykernel)",
   "language": "python",
   "name": "python3"
  },
  "language_info": {
   "codemirror_mode": {
    "name": "ipython",
    "version": 3
   },
   "file_extension": ".py",
   "mimetype": "text/x-python",
   "name": "python",
   "nbconvert_exporter": "python",
   "pygments_lexer": "ipython3",
   "version": "3.12.2"
  }
 },
 "nbformat": 4,
 "nbformat_minor": 4
}
